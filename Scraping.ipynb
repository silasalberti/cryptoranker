{
 "cells": [
  {
   "cell_type": "code",
   "execution_count": 4,
   "metadata": {},
   "outputs": [],
   "source": [
    "from requests_html import HTMLSession\n",
    "import pandas as pd\n",
    "import time\n",
    "import re\n",
    "session = HTMLSession()"
   ]
  },
  {
   "cell_type": "code",
   "execution_count": 5,
   "metadata": {},
   "outputs": [],
   "source": [
    "base = \"https://coinmarketcap.com\""
   ]
  },
  {
   "cell_type": "markdown",
   "metadata": {},
   "source": [
    "### Scraping the rows"
   ]
  },
  {
   "cell_type": "markdown",
   "metadata": {},
   "source": [
    "Get every historical link that coinmarketcap provides and put them in a list:"
   ]
  },
  {
   "cell_type": "code",
   "execution_count": 6,
   "metadata": {},
   "outputs": [],
   "source": [
    "r = session.get(base + \"/historical/\")\n",
    "p = re.compile(r'/historical/\\d{8}/')\n",
    "links = [ s for s in r.html.links if p.match(s)]"
   ]
  },
  {
   "cell_type": "markdown",
   "metadata": {},
   "source": [
    "The global variable `state` is used to collect a list of rows for each page indexed by the link of each page. It is initialized with `False` for each page to signify that the page still has to be scraped. "
   ]
  },
  {
   "cell_type": "code",
   "execution_count": 109,
   "metadata": {},
   "outputs": [],
   "source": [
    "state = {link: False for link in links}"
   ]
  },
  {
   "cell_type": "markdown",
   "metadata": {},
   "source": [
    "This is how many pages we (still) have to scrape:"
   ]
  },
  {
   "cell_type": "code",
   "execution_count": 117,
   "metadata": {},
   "outputs": [
    {
     "data": {
      "text/plain": [
       "0"
      ]
     },
     "execution_count": 117,
     "metadata": {},
     "output_type": "execute_result"
    }
   ],
   "source": [
    "len([key for (key, value) in state.items() if not value])"
   ]
  },
  {
   "cell_type": "markdown",
   "metadata": {},
   "source": [
    "This tries to scrape the websites and sleeps 6 seconds after each requests. Moreover it sleeps 30 seconds if it encounters and `IndexError` which happened whenever the request was blocked. After it was blocked 10 times it stops; use the cell above to check whether there are still pages remaining and then rerun."
   ]
  },
  {
   "cell_type": "code",
   "execution_count": 118,
   "metadata": {},
   "outputs": [
    {
     "name": "stdout",
     "output_type": "stream",
     "text": [
      "Stopped\n"
     ]
    }
   ],
   "source": [
    "for _ in range(10):\n",
    "    try:\n",
    "        for link in (key for (key, value) in state.items() if not value):\n",
    "            print(link)\n",
    "            r = session.get(base + link)\n",
    "            table = r.html.find(\"table\")[2]\n",
    "            table_content = table.lxml[0]\n",
    "            tbody = table_content[1]\n",
    "            state[link] = [[\n",
    "                pd.to_datetime(link[12:-1]),\n",
    "                int(trow[0][0].text), \n",
    "                trow[1][0][1].text,\n",
    "                trow[2][0].text,\n",
    "                int(trow[3][0].text[1:].replace(\",\",\"\")),\n",
    "                float(trow[4][0][0].text[1:].replace(\",\",\"\")),\n",
    "                int(trow[5][0].text.split(\" \")[0].replace(\",\",\"\")),\n",
    "                trow[1][0][0].attrib[\"src\"] if \"src\" in trow[1][0][0].attrib else \"\",\n",
    "            ] for trow in tbody]\n",
    "            time.sleep(6)\n",
    "    except IndexError:\n",
    "        print(\"Index Error\")\n",
    "        time.sleep(30)\n",
    "print(\"Stopped\")"
   ]
  },
  {
   "cell_type": "markdown",
   "metadata": {},
   "source": [
    "Sum over the lists of rows in `state`, i.e. concatenate them, and put them into a big dataframe:"
   ]
  },
  {
   "cell_type": "code",
   "execution_count": 119,
   "metadata": {},
   "outputs": [
    {
     "data": {
      "text/html": [
       "<div>\n",
       "<style scoped>\n",
       "    .dataframe tbody tr th:only-of-type {\n",
       "        vertical-align: middle;\n",
       "    }\n",
       "\n",
       "    .dataframe tbody tr th {\n",
       "        vertical-align: top;\n",
       "    }\n",
       "\n",
       "    .dataframe thead th {\n",
       "        text-align: right;\n",
       "    }\n",
       "</style>\n",
       "<table border=\"1\" class=\"dataframe\">\n",
       "  <thead>\n",
       "    <tr style=\"text-align: right;\">\n",
       "      <th></th>\n",
       "      <th>date</th>\n",
       "      <th>rank</th>\n",
       "      <th>name</th>\n",
       "      <th>symbol</th>\n",
       "      <th>market-cap</th>\n",
       "      <th>price</th>\n",
       "      <th>circulating-supply</th>\n",
       "      <th>image</th>\n",
       "    </tr>\n",
       "  </thead>\n",
       "  <tbody>\n",
       "    <tr>\n",
       "      <th>0</th>\n",
       "      <td>2016-03-06</td>\n",
       "      <td>1</td>\n",
       "      <td>Bitcoin</td>\n",
       "      <td>BTC</td>\n",
       "      <td>6232667417</td>\n",
       "      <td>407.710000</td>\n",
       "      <td>15287125</td>\n",
       "      <td>https://s2.coinmarketcap.com/static/img/coins/...</td>\n",
       "    </tr>\n",
       "    <tr>\n",
       "      <th>1</th>\n",
       "      <td>2016-03-06</td>\n",
       "      <td>2</td>\n",
       "      <td>Ethereum</td>\n",
       "      <td>ETH</td>\n",
       "      <td>882886701</td>\n",
       "      <td>11.380000</td>\n",
       "      <td>77562550</td>\n",
       "      <td>https://s2.coinmarketcap.com/static/img/coins/...</td>\n",
       "    </tr>\n",
       "    <tr>\n",
       "      <th>2</th>\n",
       "      <td>2016-03-06</td>\n",
       "      <td>3</td>\n",
       "      <td>XRP</td>\n",
       "      <td>XRP</td>\n",
       "      <td>267938591</td>\n",
       "      <td>0.007860</td>\n",
       "      <td>34090841338</td>\n",
       "      <td>https://s2.coinmarketcap.com/static/img/coins/...</td>\n",
       "    </tr>\n",
       "    <tr>\n",
       "      <th>3</th>\n",
       "      <td>2016-03-06</td>\n",
       "      <td>4</td>\n",
       "      <td>Litecoin</td>\n",
       "      <td>LTC</td>\n",
       "      <td>144323374</td>\n",
       "      <td>3.220000</td>\n",
       "      <td>44798026</td>\n",
       "      <td>https://s2.coinmarketcap.com/static/img/coins/...</td>\n",
       "    </tr>\n",
       "    <tr>\n",
       "      <th>4</th>\n",
       "      <td>2016-03-06</td>\n",
       "      <td>5</td>\n",
       "      <td>MaidSafeCoin</td>\n",
       "      <td>MAID</td>\n",
       "      <td>47222405</td>\n",
       "      <td>0.104347</td>\n",
       "      <td>452552412</td>\n",
       "      <td>https://s2.coinmarketcap.com/static/img/coins/...</td>\n",
       "    </tr>\n",
       "    <tr>\n",
       "      <th>...</th>\n",
       "      <td>...</td>\n",
       "      <td>...</td>\n",
       "      <td>...</td>\n",
       "      <td>...</td>\n",
       "      <td>...</td>\n",
       "      <td>...</td>\n",
       "      <td>...</td>\n",
       "      <td>...</td>\n",
       "    </tr>\n",
       "    <tr>\n",
       "      <th>73042</th>\n",
       "      <td>2019-05-05</td>\n",
       "      <td>196</td>\n",
       "      <td>Einsteinium</td>\n",
       "      <td>EMC2</td>\n",
       "      <td>18092012</td>\n",
       "      <td>0.082752</td>\n",
       "      <td>218628620</td>\n",
       "      <td></td>\n",
       "    </tr>\n",
       "    <tr>\n",
       "      <th>73043</th>\n",
       "      <td>2019-05-05</td>\n",
       "      <td>197</td>\n",
       "      <td>Gnosis</td>\n",
       "      <td>GNO</td>\n",
       "      <td>18041846</td>\n",
       "      <td>16.330000</td>\n",
       "      <td>1104590</td>\n",
       "      <td></td>\n",
       "    </tr>\n",
       "    <tr>\n",
       "      <th>73044</th>\n",
       "      <td>2019-05-05</td>\n",
       "      <td>198</td>\n",
       "      <td>Ankr</td>\n",
       "      <td>ANKR</td>\n",
       "      <td>17958625</td>\n",
       "      <td>0.008123</td>\n",
       "      <td>2210758610</td>\n",
       "      <td></td>\n",
       "    </tr>\n",
       "    <tr>\n",
       "      <th>73045</th>\n",
       "      <td>2019-05-05</td>\n",
       "      <td>199</td>\n",
       "      <td>Odyssey</td>\n",
       "      <td>OCN</td>\n",
       "      <td>17694306</td>\n",
       "      <td>0.002362</td>\n",
       "      <td>7491360438</td>\n",
       "      <td></td>\n",
       "    </tr>\n",
       "    <tr>\n",
       "      <th>73046</th>\n",
       "      <td>2019-05-05</td>\n",
       "      <td>200</td>\n",
       "      <td>Moeda Loyalty Points</td>\n",
       "      <td>MDA</td>\n",
       "      <td>17636839</td>\n",
       "      <td>0.898514</td>\n",
       "      <td>19628888</td>\n",
       "      <td></td>\n",
       "    </tr>\n",
       "  </tbody>\n",
       "</table>\n",
       "<p>73047 rows × 8 columns</p>\n",
       "</div>"
      ],
      "text/plain": [
       "            date  rank                  name symbol  market-cap       price  \\\n",
       "0     2016-03-06     1               Bitcoin    BTC  6232667417  407.710000   \n",
       "1     2016-03-06     2              Ethereum    ETH   882886701   11.380000   \n",
       "2     2016-03-06     3                   XRP    XRP   267938591    0.007860   \n",
       "3     2016-03-06     4              Litecoin    LTC   144323374    3.220000   \n",
       "4     2016-03-06     5          MaidSafeCoin   MAID    47222405    0.104347   \n",
       "...          ...   ...                   ...    ...         ...         ...   \n",
       "73042 2019-05-05   196           Einsteinium   EMC2    18092012    0.082752   \n",
       "73043 2019-05-05   197                Gnosis    GNO    18041846   16.330000   \n",
       "73044 2019-05-05   198                  Ankr   ANKR    17958625    0.008123   \n",
       "73045 2019-05-05   199               Odyssey    OCN    17694306    0.002362   \n",
       "73046 2019-05-05   200  Moeda Loyalty Points    MDA    17636839    0.898514   \n",
       "\n",
       "       circulating-supply                                              image  \n",
       "0                15287125  https://s2.coinmarketcap.com/static/img/coins/...  \n",
       "1                77562550  https://s2.coinmarketcap.com/static/img/coins/...  \n",
       "2             34090841338  https://s2.coinmarketcap.com/static/img/coins/...  \n",
       "3                44798026  https://s2.coinmarketcap.com/static/img/coins/...  \n",
       "4               452552412  https://s2.coinmarketcap.com/static/img/coins/...  \n",
       "...                   ...                                                ...  \n",
       "73042           218628620                                                     \n",
       "73043             1104590                                                     \n",
       "73044          2210758610                                                     \n",
       "73045          7491360438                                                     \n",
       "73046            19628888                                                     \n",
       "\n",
       "[73047 rows x 8 columns]"
      ]
     },
     "execution_count": 119,
     "metadata": {},
     "output_type": "execute_result"
    }
   ],
   "source": [
    "df = pd.DataFrame(sum((value for key, value in state.items() if value), []), \n",
    "    columns=[\n",
    "        \"date\",\n",
    "        \"rank\", \n",
    "        \"name\",\n",
    "        \"symbol\",\n",
    "        \"market-cap\",\n",
    "        \"price\",\n",
    "        \"circulating-supply\",\n",
    "        \"image\"\n",
    "    ])\n",
    "df"
   ]
  },
  {
   "cell_type": "markdown",
   "metadata": {},
   "source": [
    "A double index can also be used for further analysis:"
   ]
  },
  {
   "cell_type": "code",
   "execution_count": 123,
   "metadata": {},
   "outputs": [
    {
     "data": {
      "text/html": [
       "<div>\n",
       "<style scoped>\n",
       "    .dataframe tbody tr th:only-of-type {\n",
       "        vertical-align: middle;\n",
       "    }\n",
       "\n",
       "    .dataframe tbody tr th {\n",
       "        vertical-align: top;\n",
       "    }\n",
       "\n",
       "    .dataframe thead th {\n",
       "        text-align: right;\n",
       "    }\n",
       "</style>\n",
       "<table border=\"1\" class=\"dataframe\">\n",
       "  <thead>\n",
       "    <tr style=\"text-align: right;\">\n",
       "      <th></th>\n",
       "      <th></th>\n",
       "      <th>name</th>\n",
       "      <th>symbol</th>\n",
       "      <th>market-cap</th>\n",
       "      <th>price</th>\n",
       "      <th>circulating-supply</th>\n",
       "      <th>image</th>\n",
       "    </tr>\n",
       "    <tr>\n",
       "      <th>date</th>\n",
       "      <th>rank</th>\n",
       "      <th></th>\n",
       "      <th></th>\n",
       "      <th></th>\n",
       "      <th></th>\n",
       "      <th></th>\n",
       "      <th></th>\n",
       "    </tr>\n",
       "  </thead>\n",
       "  <tbody>\n",
       "    <tr>\n",
       "      <th rowspan=\"5\" valign=\"top\">2016-03-06</th>\n",
       "      <th>1</th>\n",
       "      <td>Bitcoin</td>\n",
       "      <td>BTC</td>\n",
       "      <td>6232667417</td>\n",
       "      <td>407.710000</td>\n",
       "      <td>15287125</td>\n",
       "      <td>https://s2.coinmarketcap.com/static/img/coins/...</td>\n",
       "    </tr>\n",
       "    <tr>\n",
       "      <th>2</th>\n",
       "      <td>Ethereum</td>\n",
       "      <td>ETH</td>\n",
       "      <td>882886701</td>\n",
       "      <td>11.380000</td>\n",
       "      <td>77562550</td>\n",
       "      <td>https://s2.coinmarketcap.com/static/img/coins/...</td>\n",
       "    </tr>\n",
       "    <tr>\n",
       "      <th>3</th>\n",
       "      <td>XRP</td>\n",
       "      <td>XRP</td>\n",
       "      <td>267938591</td>\n",
       "      <td>0.007860</td>\n",
       "      <td>34090841338</td>\n",
       "      <td>https://s2.coinmarketcap.com/static/img/coins/...</td>\n",
       "    </tr>\n",
       "    <tr>\n",
       "      <th>4</th>\n",
       "      <td>Litecoin</td>\n",
       "      <td>LTC</td>\n",
       "      <td>144323374</td>\n",
       "      <td>3.220000</td>\n",
       "      <td>44798026</td>\n",
       "      <td>https://s2.coinmarketcap.com/static/img/coins/...</td>\n",
       "    </tr>\n",
       "    <tr>\n",
       "      <th>5</th>\n",
       "      <td>MaidSafeCoin</td>\n",
       "      <td>MAID</td>\n",
       "      <td>47222405</td>\n",
       "      <td>0.104347</td>\n",
       "      <td>452552412</td>\n",
       "      <td>https://s2.coinmarketcap.com/static/img/coins/...</td>\n",
       "    </tr>\n",
       "    <tr>\n",
       "      <th>...</th>\n",
       "      <th>...</th>\n",
       "      <td>...</td>\n",
       "      <td>...</td>\n",
       "      <td>...</td>\n",
       "      <td>...</td>\n",
       "      <td>...</td>\n",
       "      <td>...</td>\n",
       "    </tr>\n",
       "    <tr>\n",
       "      <th rowspan=\"5\" valign=\"top\">2019-05-05</th>\n",
       "      <th>196</th>\n",
       "      <td>Einsteinium</td>\n",
       "      <td>EMC2</td>\n",
       "      <td>18092012</td>\n",
       "      <td>0.082752</td>\n",
       "      <td>218628620</td>\n",
       "      <td></td>\n",
       "    </tr>\n",
       "    <tr>\n",
       "      <th>197</th>\n",
       "      <td>Gnosis</td>\n",
       "      <td>GNO</td>\n",
       "      <td>18041846</td>\n",
       "      <td>16.330000</td>\n",
       "      <td>1104590</td>\n",
       "      <td></td>\n",
       "    </tr>\n",
       "    <tr>\n",
       "      <th>198</th>\n",
       "      <td>Ankr</td>\n",
       "      <td>ANKR</td>\n",
       "      <td>17958625</td>\n",
       "      <td>0.008123</td>\n",
       "      <td>2210758610</td>\n",
       "      <td></td>\n",
       "    </tr>\n",
       "    <tr>\n",
       "      <th>199</th>\n",
       "      <td>Odyssey</td>\n",
       "      <td>OCN</td>\n",
       "      <td>17694306</td>\n",
       "      <td>0.002362</td>\n",
       "      <td>7491360438</td>\n",
       "      <td></td>\n",
       "    </tr>\n",
       "    <tr>\n",
       "      <th>200</th>\n",
       "      <td>Moeda Loyalty Points</td>\n",
       "      <td>MDA</td>\n",
       "      <td>17636839</td>\n",
       "      <td>0.898514</td>\n",
       "      <td>19628888</td>\n",
       "      <td></td>\n",
       "    </tr>\n",
       "  </tbody>\n",
       "</table>\n",
       "<p>73047 rows × 6 columns</p>\n",
       "</div>"
      ],
      "text/plain": [
       "                                 name symbol  market-cap       price  \\\n",
       "date       rank                                                        \n",
       "2016-03-06 1                  Bitcoin    BTC  6232667417  407.710000   \n",
       "           2                 Ethereum    ETH   882886701   11.380000   \n",
       "           3                      XRP    XRP   267938591    0.007860   \n",
       "           4                 Litecoin    LTC   144323374    3.220000   \n",
       "           5             MaidSafeCoin   MAID    47222405    0.104347   \n",
       "...                               ...    ...         ...         ...   \n",
       "2019-05-05 196            Einsteinium   EMC2    18092012    0.082752   \n",
       "           197                 Gnosis    GNO    18041846   16.330000   \n",
       "           198                   Ankr   ANKR    17958625    0.008123   \n",
       "           199                Odyssey    OCN    17694306    0.002362   \n",
       "           200   Moeda Loyalty Points    MDA    17636839    0.898514   \n",
       "\n",
       "                 circulating-supply  \\\n",
       "date       rank                       \n",
       "2016-03-06 1               15287125   \n",
       "           2               77562550   \n",
       "           3            34090841338   \n",
       "           4               44798026   \n",
       "           5              452552412   \n",
       "...                             ...   \n",
       "2019-05-05 196            218628620   \n",
       "           197              1104590   \n",
       "           198           2210758610   \n",
       "           199           7491360438   \n",
       "           200             19628888   \n",
       "\n",
       "                                                             image  \n",
       "date       rank                                                     \n",
       "2016-03-06 1     https://s2.coinmarketcap.com/static/img/coins/...  \n",
       "           2     https://s2.coinmarketcap.com/static/img/coins/...  \n",
       "           3     https://s2.coinmarketcap.com/static/img/coins/...  \n",
       "           4     https://s2.coinmarketcap.com/static/img/coins/...  \n",
       "           5     https://s2.coinmarketcap.com/static/img/coins/...  \n",
       "...                                                            ...  \n",
       "2019-05-05 196                                                      \n",
       "           197                                                      \n",
       "           198                                                      \n",
       "           199                                                      \n",
       "           200                                                      \n",
       "\n",
       "[73047 rows x 6 columns]"
      ]
     },
     "execution_count": 123,
     "metadata": {},
     "output_type": "execute_result"
    }
   ],
   "source": [
    "df.set_index([\"date\", \"rank\"])"
   ]
  },
  {
   "cell_type": "markdown",
   "metadata": {},
   "source": [
    "Save the dataframe into a csv:"
   ]
  },
  {
   "cell_type": "code",
   "execution_count": 124,
   "metadata": {},
   "outputs": [],
   "source": [
    "df.sort_values(\"date\").to_csv(\"cryptocurrency-data.csv\", index=False)"
   ]
  },
  {
   "cell_type": "markdown",
   "metadata": {},
   "source": [
    "### Downloading images"
   ]
  },
  {
   "cell_type": "markdown",
   "metadata": {},
   "source": [
    "List containing the image urls that have been donwloaded already:"
   ]
  },
  {
   "cell_type": "code",
   "execution_count": 170,
   "metadata": {},
   "outputs": [],
   "source": [
    "downloaded_already = []"
   ]
  },
  {
   "cell_type": "markdown",
   "metadata": {},
   "source": [
    "Iterate over all rows which have a download url and download the ones that aren't yet in `downloaded_already`. Download the 64x64 version instead of the 32x32 version."
   ]
  },
  {
   "cell_type": "code",
   "execution_count": 126,
   "metadata": {},
   "outputs": [],
   "source": [
    "import urllib.request"
   ]
  },
  {
   "cell_type": "code",
   "execution_count": 171,
   "metadata": {},
   "outputs": [],
   "source": [
    "for _, row in df.query(\"image != ''\").iterrows():\n",
    "    if row[\"image\"] not in downloaded_already:\n",
    "        urllib.request.urlretrieve(row[\"image\"].replace(\"32\",\"64\"), f\"assets/{row['name']}.jpg\")\n",
    "        downloaded_already.append(row[\"image\"])"
   ]
  },
  {
   "cell_type": "markdown",
   "metadata": {},
   "source": [
    "Replace the remote urls in `df2` with the local paths:"
   ]
  },
  {
   "cell_type": "code",
   "execution_count": 156,
   "metadata": {},
   "outputs": [],
   "source": [
    "df2 = df.copy()\n",
    "for name in df.query(\"image != ''\").name.unique():\n",
    "    df2.loc[df.name == name, \"image\"] = f\"assets/{name}.jpg\""
   ]
  },
  {
   "cell_type": "markdown",
   "metadata": {},
   "source": [
    "In `df2` we have way more rows with images, because:\n",
    "In `df` a row only had image if it is in the top 10.\n",
    "Now, it has an image if it *ever* was in the top 10."
   ]
  },
  {
   "cell_type": "code",
   "execution_count": 163,
   "metadata": {},
   "outputs": [
    {
     "data": {
      "text/plain": [
       "3997"
      ]
     },
     "execution_count": 163,
     "metadata": {},
     "output_type": "execute_result"
    }
   ],
   "source": [
    "df.query(\"image != ''\").name.count()"
   ]
  },
  {
   "cell_type": "code",
   "execution_count": 164,
   "metadata": {},
   "outputs": [
    {
     "data": {
      "text/plain": [
       "13900"
      ]
     },
     "execution_count": 164,
     "metadata": {},
     "output_type": "execute_result"
    }
   ],
   "source": [
    "df2.query(\"image != ''\").name.count()"
   ]
  },
  {
   "cell_type": "markdown",
   "metadata": {},
   "source": [
    "Top 20 Coins with still no image:"
   ]
  },
  {
   "cell_type": "code",
   "execution_count": 185,
   "metadata": {},
   "outputs": [
    {
     "data": {
      "text/plain": [
       "array(['Agoras Tokens', 'YbCoin', 'Zetacoin', 'Bitleu',\n",
       "       'SiliconValleyCoin [old]', 'Peerplays [old]', 'UNUS SED LEO',\n",
       "       'Qtum', 'Zcash', 'OmiseGO', 'HyperCash', 'VeChain', 'Huobi Token',\n",
       "       'USD Coin', 'Iconomi', 'NuBits', 'SuperNET', 'HEX', 'Vertcoin',\n",
       "       'Vechain [Token]', 'FedoraCoin', 'RevolutionVR', 'VeriCoin',\n",
       "       'CloakCoin', 'BBQCoin', 'Ixcoin', 'BitBar', 'GoldCoin', 'Memecoin',\n",
       "       'Maker', 'Asiadigicoin', 'VPNCoin', 'Veritaseum',\n",
       "       'Wrapped Bitcoin', 'BitcoinDark', 'Nxttycoin', 'MonaCoin',\n",
       "       'Acash Coin', 'Cosmos', 'ICON', 'Maxcoin', 'Rimbit', 'MINDOL',\n",
       "       'Siacoin', 'TenX', 'Nano', 'Populous', 'Verge', 'Anoncoin',\n",
       "       'StableCoin', 'GridCoin', 'Rubycoin', 'Gulden', 'Phoenixcoin',\n",
       "       'Fastcoin', 'Ontology', 'Neutrino', 'FuelCoin', 'Gnosis', '999',\n",
       "       'ReddCoin', 'NXTventure', 'AmericanCoin', 'Franko', 'Clams',\n",
       "       'DigiByte', 'Viacoin', 'Decred', 'NetCoin', 'Copperlark',\n",
       "       'Marinecoin', 'Ardor', 'GameCredits', 'NeuCoin', 'SingularDTV',\n",
       "       'Tickets', 'Global Currency Reserve', 'CannabisCoin', 'ARCHcoin',\n",
       "       'Bitgem', 'Round', 'Ethercoin', 'FairCoin', 'BitCrystals',\n",
       "       'ShadowCash', 'Luckycoin', 'InstantDEX'], dtype=object)"
      ]
     },
     "execution_count": 185,
     "metadata": {},
     "output_type": "execute_result"
    }
   ],
   "source": [
    "top20noimage = df2.query(\"rank < 20 and image == ''\").name.unique()\n",
    "top20noimage"
   ]
  },
  {
   "cell_type": "markdown",
   "metadata": {},
   "source": [
    "Download images from the currency's main page:"
   ]
  },
  {
   "cell_type": "code",
   "execution_count": 201,
   "metadata": {},
   "outputs": [],
   "source": [
    "already_downloaded_images_by_name = []"
   ]
  },
  {
   "cell_type": "code",
   "execution_count": 206,
   "metadata": {},
   "outputs": [],
   "source": [
    "def download_name(name: str, url_name: str = None):\n",
    "    print(f\"Downloading {name}\")\n",
    "    if not url_name:\n",
    "        url_name = name.lower().replace(\" \", \"-\").replace(\"[\",\"\").replace(\"]\",\"\")\n",
    "    r = session.get(f\"https://coinmarketcap.com/currencies/{url_name}\")\n",
    "    try:\n",
    "        url = r.html.find(\".cmc-static-icon\")[0].lxml[0].attrib[\"src\"]\n",
    "        urllib.request.urlretrieve(url, f\"assets/{name}.jpg\")\n",
    "        already_downloaded_images_by_name.append(name)\n",
    "    except IndexError:\n",
    "        print(f\"Couldn't find {url_name}\")"
   ]
  },
  {
   "cell_type": "code",
   "execution_count": 228,
   "metadata": {},
   "outputs": [
    {
     "name": "stdout",
     "output_type": "stream",
     "text": [
      "Downloading HyperSpace\n",
      "Couldn't find hyperspace\n",
      "Downloading Bytecoin\n",
      "Couldn't find bytecoin\n",
      "Downloading SounDAC\n",
      "Couldn't find soundac\n",
      "Downloading Lisk\n",
      "Couldn't find lisk\n",
      "Downloading Crypto.com Coin\n",
      "Couldn't find crypto.com-coin\n",
      "Downloading v.systems\n",
      "Couldn't find v.systems\n",
      "Downloading Augur\n",
      "Couldn't find augur\n",
      "Downloading Golem\n",
      "Couldn't find golem\n",
      "Downloading GetGems\n",
      "Couldn't find getgems\n",
      "Downloading XCurrency\n",
      "Downloading Uro\n",
      "Downloading Terracoin\n",
      "Downloading Freicoin\n",
      "Downloading CHNCoin\n",
      "Downloading Yacoin\n",
      "Downloading Mincoin\n",
      "Downloading Nibble\n",
      "Downloading Junkcoin\n",
      "Downloading Elacoin\n",
      "Downloading TrueUSD\n",
      "Downloading MEXC Token\n",
      "Downloading Status\n",
      "Downloading Polkadot\n",
      "Couldn't find polkadot\n",
      "Downloading Dai\n",
      "Couldn't find dai\n",
      "Downloading Filecoin\n",
      "Downloading Binance USD\n",
      "Downloading Swarm\n",
      "Couldn't find swarm\n",
      "Downloading Pandacoin\n",
      "Couldn't find pandacoin\n",
      "Downloading Aeternity\n",
      "Couldn't find aeternity\n",
      "Downloading jl777hodl\n",
      "Couldn't find jl777hodl\n",
      "Downloading Zilliqa\n",
      "Couldn't find zilliqa\n",
      "Downloading Aave\n",
      "Couldn't find aave\n",
      "Downloading Nas\n",
      "Couldn't find nas\n",
      "Downloading Basic Attention Token\n",
      "Couldn't find basic-attention-token\n",
      "Downloading Unobtanium\n",
      "Couldn't find unobtanium\n",
      "Downloading Mooncoin\n",
      "Couldn't find mooncoin\n",
      "Downloading Pangea Poker\n",
      "Couldn't find pangea-poker\n",
      "Downloading TRMB\n",
      "Couldn't find trmb\n",
      "Downloading BlockShares\n",
      "Couldn't find blockshares\n",
      "Downloading Bullion\n",
      "Couldn't find bullion\n",
      "Downloading XenCoin\n",
      "Couldn't find xencoin\n",
      "Downloading AlphaCoin\n",
      "Couldn't find alphacoin\n",
      "Downloading Bottlecaps\n",
      "Couldn't find bottlecaps\n",
      "Downloading Argentum\n",
      "Couldn't find argentum\n",
      "Downloading Dentacoin\n",
      "Couldn't find dentacoin\n",
      "Downloading Paxos Standard\n",
      "Couldn't find paxos-standard\n",
      "Downloading I0Coin\n",
      "Couldn't find i0coin\n",
      "Downloading Datacoin\n",
      "Couldn't find datacoin\n",
      "Downloading EDC Blockchain\n",
      "Couldn't find edc-blockchain\n",
      "Downloading Swiscoin\n",
      "Couldn't find swiscoin\n",
      "Downloading AmberCoin\n",
      "Couldn't find ambercoin\n",
      "Downloading Krugercoin\n",
      "Couldn't find krugercoin\n",
      "Downloading Compound\n",
      "Couldn't find compound\n",
      "Downloading Revain\n",
      "Couldn't find revain\n",
      "Downloading Uniswap\n",
      "Couldn't find uniswap\n",
      "Downloading Razor\n",
      "Couldn't find razor\n",
      "Downloading VestChain\n",
      "Couldn't find vestchain\n",
      "Downloading CoinoUSD\n",
      "Couldn't find coinousd\n",
      "Downloading BitBay\n",
      "Couldn't find bitbay\n",
      "Downloading UltraCoin\n",
      "Couldn't find ultracoin\n",
      "Downloading OMG Network\n",
      "Couldn't find omg-network\n",
      "Downloading Kyber Network\n",
      "Couldn't find kyber-network\n",
      "Downloading Gas\n",
      "Couldn't find gas\n",
      "Downloading SALT\n",
      "Couldn't find salt\n",
      "Downloading SolarFarm\n",
      "Couldn't find solarfarm\n",
      "Downloading yearn.finance\n",
      "Couldn't find yearn.finance\n",
      "Downloading UMA\n"
     ]
    },
    {
     "ename": "KeyboardInterrupt",
     "evalue": "",
     "output_type": "error",
     "traceback": [
      "\u001b[0;31m---------------------------------------------------------------------------\u001b[0m",
      "\u001b[0;31mKeyboardInterrupt\u001b[0m                         Traceback (most recent call last)",
      "\u001b[0;32m<ipython-input-228-5e9b1d306f53>\u001b[0m in \u001b[0;36m<module>\u001b[0;34m\u001b[0m\n\u001b[1;32m      1\u001b[0m \u001b[0;32mfor\u001b[0m \u001b[0mname\u001b[0m \u001b[0;32min\u001b[0m \u001b[0mdf2\u001b[0m\u001b[0;34m.\u001b[0m\u001b[0mquery\u001b[0m\u001b[0;34m(\u001b[0m\u001b[0;34m\"rank <= 30\"\u001b[0m\u001b[0;34m)\u001b[0m\u001b[0;34m.\u001b[0m\u001b[0mname\u001b[0m\u001b[0;34m.\u001b[0m\u001b[0munique\u001b[0m\u001b[0;34m(\u001b[0m\u001b[0;34m)\u001b[0m\u001b[0;34m:\u001b[0m\u001b[0;34m\u001b[0m\u001b[0;34m\u001b[0m\u001b[0m\n\u001b[1;32m      2\u001b[0m     \u001b[0;32mif\u001b[0m \u001b[0mname\u001b[0m \u001b[0;32mnot\u001b[0m \u001b[0;32min\u001b[0m \u001b[0malready_downloaded_images_by_name\u001b[0m\u001b[0;34m:\u001b[0m\u001b[0;34m\u001b[0m\u001b[0;34m\u001b[0m\u001b[0m\n\u001b[0;32m----> 3\u001b[0;31m         \u001b[0mdownload_name\u001b[0m\u001b[0;34m(\u001b[0m\u001b[0mname\u001b[0m\u001b[0;34m)\u001b[0m\u001b[0;34m\u001b[0m\u001b[0;34m\u001b[0m\u001b[0m\n\u001b[0m",
      "\u001b[0;32m<ipython-input-206-40f25295a76d>\u001b[0m in \u001b[0;36mdownload_name\u001b[0;34m(name, url_name)\u001b[0m\n\u001b[1;32m      3\u001b[0m     \u001b[0;32mif\u001b[0m \u001b[0;32mnot\u001b[0m \u001b[0murl_name\u001b[0m\u001b[0;34m:\u001b[0m\u001b[0;34m\u001b[0m\u001b[0;34m\u001b[0m\u001b[0m\n\u001b[1;32m      4\u001b[0m         \u001b[0murl_name\u001b[0m \u001b[0;34m=\u001b[0m \u001b[0mname\u001b[0m\u001b[0;34m.\u001b[0m\u001b[0mlower\u001b[0m\u001b[0;34m(\u001b[0m\u001b[0;34m)\u001b[0m\u001b[0;34m.\u001b[0m\u001b[0mreplace\u001b[0m\u001b[0;34m(\u001b[0m\u001b[0;34m\" \"\u001b[0m\u001b[0;34m,\u001b[0m \u001b[0;34m\"-\"\u001b[0m\u001b[0;34m)\u001b[0m\u001b[0;34m.\u001b[0m\u001b[0mreplace\u001b[0m\u001b[0;34m(\u001b[0m\u001b[0;34m\"[\"\u001b[0m\u001b[0;34m,\u001b[0m\u001b[0;34m\"\"\u001b[0m\u001b[0;34m)\u001b[0m\u001b[0;34m.\u001b[0m\u001b[0mreplace\u001b[0m\u001b[0;34m(\u001b[0m\u001b[0;34m\"]\"\u001b[0m\u001b[0;34m,\u001b[0m\u001b[0;34m\"\"\u001b[0m\u001b[0;34m)\u001b[0m\u001b[0;34m\u001b[0m\u001b[0;34m\u001b[0m\u001b[0m\n\u001b[0;32m----> 5\u001b[0;31m     \u001b[0mr\u001b[0m \u001b[0;34m=\u001b[0m \u001b[0msession\u001b[0m\u001b[0;34m.\u001b[0m\u001b[0mget\u001b[0m\u001b[0;34m(\u001b[0m\u001b[0;34mf\"https://coinmarketcap.com/currencies/{url_name}\"\u001b[0m\u001b[0;34m)\u001b[0m\u001b[0;34m\u001b[0m\u001b[0;34m\u001b[0m\u001b[0m\n\u001b[0m\u001b[1;32m      6\u001b[0m     \u001b[0;32mtry\u001b[0m\u001b[0;34m:\u001b[0m\u001b[0;34m\u001b[0m\u001b[0;34m\u001b[0m\u001b[0m\n\u001b[1;32m      7\u001b[0m         \u001b[0murl\u001b[0m \u001b[0;34m=\u001b[0m \u001b[0mr\u001b[0m\u001b[0;34m.\u001b[0m\u001b[0mhtml\u001b[0m\u001b[0;34m.\u001b[0m\u001b[0mfind\u001b[0m\u001b[0;34m(\u001b[0m\u001b[0;34m\".cmc-static-icon\"\u001b[0m\u001b[0;34m)\u001b[0m\u001b[0;34m[\u001b[0m\u001b[0;36m0\u001b[0m\u001b[0;34m]\u001b[0m\u001b[0;34m.\u001b[0m\u001b[0mlxml\u001b[0m\u001b[0;34m[\u001b[0m\u001b[0;36m0\u001b[0m\u001b[0;34m]\u001b[0m\u001b[0;34m.\u001b[0m\u001b[0mattrib\u001b[0m\u001b[0;34m[\u001b[0m\u001b[0;34m\"src\"\u001b[0m\u001b[0;34m]\u001b[0m\u001b[0;34m\u001b[0m\u001b[0;34m\u001b[0m\u001b[0m\n",
      "\u001b[0;32m/usr/local/anaconda3/lib/python3.8/site-packages/requests/sessions.py\u001b[0m in \u001b[0;36mget\u001b[0;34m(self, url, **kwargs)\u001b[0m\n\u001b[1;32m    541\u001b[0m \u001b[0;34m\u001b[0m\u001b[0m\n\u001b[1;32m    542\u001b[0m         \u001b[0mkwargs\u001b[0m\u001b[0;34m.\u001b[0m\u001b[0msetdefault\u001b[0m\u001b[0;34m(\u001b[0m\u001b[0;34m'allow_redirects'\u001b[0m\u001b[0;34m,\u001b[0m \u001b[0;32mTrue\u001b[0m\u001b[0;34m)\u001b[0m\u001b[0;34m\u001b[0m\u001b[0;34m\u001b[0m\u001b[0m\n\u001b[0;32m--> 543\u001b[0;31m         \u001b[0;32mreturn\u001b[0m \u001b[0mself\u001b[0m\u001b[0;34m.\u001b[0m\u001b[0mrequest\u001b[0m\u001b[0;34m(\u001b[0m\u001b[0;34m'GET'\u001b[0m\u001b[0;34m,\u001b[0m \u001b[0murl\u001b[0m\u001b[0;34m,\u001b[0m \u001b[0;34m**\u001b[0m\u001b[0mkwargs\u001b[0m\u001b[0;34m)\u001b[0m\u001b[0;34m\u001b[0m\u001b[0;34m\u001b[0m\u001b[0m\n\u001b[0m\u001b[1;32m    544\u001b[0m \u001b[0;34m\u001b[0m\u001b[0m\n\u001b[1;32m    545\u001b[0m     \u001b[0;32mdef\u001b[0m \u001b[0moptions\u001b[0m\u001b[0;34m(\u001b[0m\u001b[0mself\u001b[0m\u001b[0;34m,\u001b[0m \u001b[0murl\u001b[0m\u001b[0;34m,\u001b[0m \u001b[0;34m**\u001b[0m\u001b[0mkwargs\u001b[0m\u001b[0;34m)\u001b[0m\u001b[0;34m:\u001b[0m\u001b[0;34m\u001b[0m\u001b[0;34m\u001b[0m\u001b[0m\n",
      "\u001b[0;32m/usr/local/anaconda3/lib/python3.8/site-packages/requests/sessions.py\u001b[0m in \u001b[0;36mrequest\u001b[0;34m(self, method, url, params, data, headers, cookies, files, auth, timeout, allow_redirects, proxies, hooks, stream, verify, cert, json)\u001b[0m\n\u001b[1;32m    528\u001b[0m         }\n\u001b[1;32m    529\u001b[0m         \u001b[0msend_kwargs\u001b[0m\u001b[0;34m.\u001b[0m\u001b[0mupdate\u001b[0m\u001b[0;34m(\u001b[0m\u001b[0msettings\u001b[0m\u001b[0;34m)\u001b[0m\u001b[0;34m\u001b[0m\u001b[0;34m\u001b[0m\u001b[0m\n\u001b[0;32m--> 530\u001b[0;31m         \u001b[0mresp\u001b[0m \u001b[0;34m=\u001b[0m \u001b[0mself\u001b[0m\u001b[0;34m.\u001b[0m\u001b[0msend\u001b[0m\u001b[0;34m(\u001b[0m\u001b[0mprep\u001b[0m\u001b[0;34m,\u001b[0m \u001b[0;34m**\u001b[0m\u001b[0msend_kwargs\u001b[0m\u001b[0;34m)\u001b[0m\u001b[0;34m\u001b[0m\u001b[0;34m\u001b[0m\u001b[0m\n\u001b[0m\u001b[1;32m    531\u001b[0m \u001b[0;34m\u001b[0m\u001b[0m\n\u001b[1;32m    532\u001b[0m         \u001b[0;32mreturn\u001b[0m \u001b[0mresp\u001b[0m\u001b[0;34m\u001b[0m\u001b[0;34m\u001b[0m\u001b[0m\n",
      "\u001b[0;32m/usr/local/anaconda3/lib/python3.8/site-packages/requests/sessions.py\u001b[0m in \u001b[0;36msend\u001b[0;34m(self, request, **kwargs)\u001b[0m\n\u001b[1;32m    641\u001b[0m \u001b[0;34m\u001b[0m\u001b[0m\n\u001b[1;32m    642\u001b[0m         \u001b[0;31m# Send the request\u001b[0m\u001b[0;34m\u001b[0m\u001b[0;34m\u001b[0m\u001b[0;34m\u001b[0m\u001b[0m\n\u001b[0;32m--> 643\u001b[0;31m         \u001b[0mr\u001b[0m \u001b[0;34m=\u001b[0m \u001b[0madapter\u001b[0m\u001b[0;34m.\u001b[0m\u001b[0msend\u001b[0m\u001b[0;34m(\u001b[0m\u001b[0mrequest\u001b[0m\u001b[0;34m,\u001b[0m \u001b[0;34m**\u001b[0m\u001b[0mkwargs\u001b[0m\u001b[0;34m)\u001b[0m\u001b[0;34m\u001b[0m\u001b[0;34m\u001b[0m\u001b[0m\n\u001b[0m\u001b[1;32m    644\u001b[0m \u001b[0;34m\u001b[0m\u001b[0m\n\u001b[1;32m    645\u001b[0m         \u001b[0;31m# Total elapsed time of the request (approximately)\u001b[0m\u001b[0;34m\u001b[0m\u001b[0;34m\u001b[0m\u001b[0;34m\u001b[0m\u001b[0m\n",
      "\u001b[0;32m/usr/local/anaconda3/lib/python3.8/site-packages/requests/adapters.py\u001b[0m in \u001b[0;36msend\u001b[0;34m(self, request, stream, timeout, verify, cert, proxies)\u001b[0m\n\u001b[1;32m    437\u001b[0m         \u001b[0;32mtry\u001b[0m\u001b[0;34m:\u001b[0m\u001b[0;34m\u001b[0m\u001b[0;34m\u001b[0m\u001b[0m\n\u001b[1;32m    438\u001b[0m             \u001b[0;32mif\u001b[0m \u001b[0;32mnot\u001b[0m \u001b[0mchunked\u001b[0m\u001b[0;34m:\u001b[0m\u001b[0;34m\u001b[0m\u001b[0;34m\u001b[0m\u001b[0m\n\u001b[0;32m--> 439\u001b[0;31m                 resp = conn.urlopen(\n\u001b[0m\u001b[1;32m    440\u001b[0m                     \u001b[0mmethod\u001b[0m\u001b[0;34m=\u001b[0m\u001b[0mrequest\u001b[0m\u001b[0;34m.\u001b[0m\u001b[0mmethod\u001b[0m\u001b[0;34m,\u001b[0m\u001b[0;34m\u001b[0m\u001b[0;34m\u001b[0m\u001b[0m\n\u001b[1;32m    441\u001b[0m                     \u001b[0murl\u001b[0m\u001b[0;34m=\u001b[0m\u001b[0murl\u001b[0m\u001b[0;34m,\u001b[0m\u001b[0;34m\u001b[0m\u001b[0;34m\u001b[0m\u001b[0m\n",
      "\u001b[0;32m/usr/local/anaconda3/lib/python3.8/site-packages/urllib3/connectionpool.py\u001b[0m in \u001b[0;36murlopen\u001b[0;34m(self, method, url, body, headers, retries, redirect, assert_same_host, timeout, pool_timeout, release_conn, chunked, body_pos, **response_kw)\u001b[0m\n\u001b[1;32m    668\u001b[0m \u001b[0;34m\u001b[0m\u001b[0m\n\u001b[1;32m    669\u001b[0m             \u001b[0;31m# Make the request on the httplib connection object.\u001b[0m\u001b[0;34m\u001b[0m\u001b[0;34m\u001b[0m\u001b[0;34m\u001b[0m\u001b[0m\n\u001b[0;32m--> 670\u001b[0;31m             httplib_response = self._make_request(\n\u001b[0m\u001b[1;32m    671\u001b[0m                 \u001b[0mconn\u001b[0m\u001b[0;34m,\u001b[0m\u001b[0;34m\u001b[0m\u001b[0;34m\u001b[0m\u001b[0m\n\u001b[1;32m    672\u001b[0m                 \u001b[0mmethod\u001b[0m\u001b[0;34m,\u001b[0m\u001b[0;34m\u001b[0m\u001b[0;34m\u001b[0m\u001b[0m\n",
      "\u001b[0;32m/usr/local/anaconda3/lib/python3.8/site-packages/urllib3/connectionpool.py\u001b[0m in \u001b[0;36m_make_request\u001b[0;34m(self, conn, method, url, timeout, chunked, **httplib_request_kw)\u001b[0m\n\u001b[1;32m    379\u001b[0m         \u001b[0;31m# Trigger any extra validation we need to do.\u001b[0m\u001b[0;34m\u001b[0m\u001b[0;34m\u001b[0m\u001b[0;34m\u001b[0m\u001b[0m\n\u001b[1;32m    380\u001b[0m         \u001b[0;32mtry\u001b[0m\u001b[0;34m:\u001b[0m\u001b[0;34m\u001b[0m\u001b[0;34m\u001b[0m\u001b[0m\n\u001b[0;32m--> 381\u001b[0;31m             \u001b[0mself\u001b[0m\u001b[0;34m.\u001b[0m\u001b[0m_validate_conn\u001b[0m\u001b[0;34m(\u001b[0m\u001b[0mconn\u001b[0m\u001b[0;34m)\u001b[0m\u001b[0;34m\u001b[0m\u001b[0;34m\u001b[0m\u001b[0m\n\u001b[0m\u001b[1;32m    382\u001b[0m         \u001b[0;32mexcept\u001b[0m \u001b[0;34m(\u001b[0m\u001b[0mSocketTimeout\u001b[0m\u001b[0;34m,\u001b[0m \u001b[0mBaseSSLError\u001b[0m\u001b[0;34m)\u001b[0m \u001b[0;32mas\u001b[0m \u001b[0me\u001b[0m\u001b[0;34m:\u001b[0m\u001b[0;34m\u001b[0m\u001b[0;34m\u001b[0m\u001b[0m\n\u001b[1;32m    383\u001b[0m             \u001b[0;31m# Py2 raises this as a BaseSSLError, Py3 raises it as socket timeout.\u001b[0m\u001b[0;34m\u001b[0m\u001b[0;34m\u001b[0m\u001b[0;34m\u001b[0m\u001b[0m\n",
      "\u001b[0;32m/usr/local/anaconda3/lib/python3.8/site-packages/urllib3/connectionpool.py\u001b[0m in \u001b[0;36m_validate_conn\u001b[0;34m(self, conn)\u001b[0m\n\u001b[1;32m    974\u001b[0m         \u001b[0;31m# Force connect early to allow us to validate the connection.\u001b[0m\u001b[0;34m\u001b[0m\u001b[0;34m\u001b[0m\u001b[0;34m\u001b[0m\u001b[0m\n\u001b[1;32m    975\u001b[0m         \u001b[0;32mif\u001b[0m \u001b[0;32mnot\u001b[0m \u001b[0mgetattr\u001b[0m\u001b[0;34m(\u001b[0m\u001b[0mconn\u001b[0m\u001b[0;34m,\u001b[0m \u001b[0;34m\"sock\"\u001b[0m\u001b[0;34m,\u001b[0m \u001b[0;32mNone\u001b[0m\u001b[0;34m)\u001b[0m\u001b[0;34m:\u001b[0m  \u001b[0;31m# AppEngine might not have  `.sock`\u001b[0m\u001b[0;34m\u001b[0m\u001b[0;34m\u001b[0m\u001b[0m\n\u001b[0;32m--> 976\u001b[0;31m             \u001b[0mconn\u001b[0m\u001b[0;34m.\u001b[0m\u001b[0mconnect\u001b[0m\u001b[0;34m(\u001b[0m\u001b[0;34m)\u001b[0m\u001b[0;34m\u001b[0m\u001b[0;34m\u001b[0m\u001b[0m\n\u001b[0m\u001b[1;32m    977\u001b[0m \u001b[0;34m\u001b[0m\u001b[0m\n\u001b[1;32m    978\u001b[0m         \u001b[0;32mif\u001b[0m \u001b[0;32mnot\u001b[0m \u001b[0mconn\u001b[0m\u001b[0;34m.\u001b[0m\u001b[0mis_verified\u001b[0m\u001b[0;34m:\u001b[0m\u001b[0;34m\u001b[0m\u001b[0;34m\u001b[0m\u001b[0m\n",
      "\u001b[0;32m/usr/local/anaconda3/lib/python3.8/site-packages/urllib3/connection.py\u001b[0m in \u001b[0;36mconnect\u001b[0;34m(self)\u001b[0m\n\u001b[1;32m    359\u001b[0m             \u001b[0mcontext\u001b[0m\u001b[0;34m.\u001b[0m\u001b[0mload_default_certs\u001b[0m\u001b[0;34m(\u001b[0m\u001b[0;34m)\u001b[0m\u001b[0;34m\u001b[0m\u001b[0;34m\u001b[0m\u001b[0m\n\u001b[1;32m    360\u001b[0m \u001b[0;34m\u001b[0m\u001b[0m\n\u001b[0;32m--> 361\u001b[0;31m         self.sock = ssl_wrap_socket(\n\u001b[0m\u001b[1;32m    362\u001b[0m             \u001b[0msock\u001b[0m\u001b[0;34m=\u001b[0m\u001b[0mconn\u001b[0m\u001b[0;34m,\u001b[0m\u001b[0;34m\u001b[0m\u001b[0;34m\u001b[0m\u001b[0m\n\u001b[1;32m    363\u001b[0m             \u001b[0mkeyfile\u001b[0m\u001b[0;34m=\u001b[0m\u001b[0mself\u001b[0m\u001b[0;34m.\u001b[0m\u001b[0mkey_file\u001b[0m\u001b[0;34m,\u001b[0m\u001b[0;34m\u001b[0m\u001b[0;34m\u001b[0m\u001b[0m\n",
      "\u001b[0;32m/usr/local/anaconda3/lib/python3.8/site-packages/urllib3/util/ssl_.py\u001b[0m in \u001b[0;36mssl_wrap_socket\u001b[0;34m(sock, keyfile, certfile, cert_reqs, ca_certs, server_hostname, ssl_version, ciphers, ssl_context, ca_cert_dir, key_password, ca_cert_data)\u001b[0m\n\u001b[1;32m    375\u001b[0m     ) or IS_SECURETRANSPORT:\n\u001b[1;32m    376\u001b[0m         \u001b[0;32mif\u001b[0m \u001b[0mHAS_SNI\u001b[0m \u001b[0;32mand\u001b[0m \u001b[0mserver_hostname\u001b[0m \u001b[0;32mis\u001b[0m \u001b[0;32mnot\u001b[0m \u001b[0;32mNone\u001b[0m\u001b[0;34m:\u001b[0m\u001b[0;34m\u001b[0m\u001b[0;34m\u001b[0m\u001b[0m\n\u001b[0;32m--> 377\u001b[0;31m             \u001b[0;32mreturn\u001b[0m \u001b[0mcontext\u001b[0m\u001b[0;34m.\u001b[0m\u001b[0mwrap_socket\u001b[0m\u001b[0;34m(\u001b[0m\u001b[0msock\u001b[0m\u001b[0;34m,\u001b[0m \u001b[0mserver_hostname\u001b[0m\u001b[0;34m=\u001b[0m\u001b[0mserver_hostname\u001b[0m\u001b[0;34m)\u001b[0m\u001b[0;34m\u001b[0m\u001b[0;34m\u001b[0m\u001b[0m\n\u001b[0m\u001b[1;32m    378\u001b[0m \u001b[0;34m\u001b[0m\u001b[0m\n\u001b[1;32m    379\u001b[0m         warnings.warn(\n",
      "\u001b[0;32m/usr/local/anaconda3/lib/python3.8/ssl.py\u001b[0m in \u001b[0;36mwrap_socket\u001b[0;34m(self, sock, server_side, do_handshake_on_connect, suppress_ragged_eofs, server_hostname, session)\u001b[0m\n\u001b[1;32m    498\u001b[0m         \u001b[0;31m# SSLSocket class handles server_hostname encoding before it calls\u001b[0m\u001b[0;34m\u001b[0m\u001b[0;34m\u001b[0m\u001b[0;34m\u001b[0m\u001b[0m\n\u001b[1;32m    499\u001b[0m         \u001b[0;31m# ctx._wrap_socket()\u001b[0m\u001b[0;34m\u001b[0m\u001b[0;34m\u001b[0m\u001b[0;34m\u001b[0m\u001b[0m\n\u001b[0;32m--> 500\u001b[0;31m         return self.sslsocket_class._create(\n\u001b[0m\u001b[1;32m    501\u001b[0m             \u001b[0msock\u001b[0m\u001b[0;34m=\u001b[0m\u001b[0msock\u001b[0m\u001b[0;34m,\u001b[0m\u001b[0;34m\u001b[0m\u001b[0;34m\u001b[0m\u001b[0m\n\u001b[1;32m    502\u001b[0m             \u001b[0mserver_side\u001b[0m\u001b[0;34m=\u001b[0m\u001b[0mserver_side\u001b[0m\u001b[0;34m,\u001b[0m\u001b[0;34m\u001b[0m\u001b[0;34m\u001b[0m\u001b[0m\n",
      "\u001b[0;32m/usr/local/anaconda3/lib/python3.8/ssl.py\u001b[0m in \u001b[0;36m_create\u001b[0;34m(cls, sock, server_side, do_handshake_on_connect, suppress_ragged_eofs, server_hostname, context, session)\u001b[0m\n\u001b[1;32m   1038\u001b[0m                         \u001b[0;31m# non-blocking\u001b[0m\u001b[0;34m\u001b[0m\u001b[0;34m\u001b[0m\u001b[0;34m\u001b[0m\u001b[0m\n\u001b[1;32m   1039\u001b[0m                         \u001b[0;32mraise\u001b[0m \u001b[0mValueError\u001b[0m\u001b[0;34m(\u001b[0m\u001b[0;34m\"do_handshake_on_connect should not be specified for non-blocking sockets\"\u001b[0m\u001b[0;34m)\u001b[0m\u001b[0;34m\u001b[0m\u001b[0;34m\u001b[0m\u001b[0m\n\u001b[0;32m-> 1040\u001b[0;31m                     \u001b[0mself\u001b[0m\u001b[0;34m.\u001b[0m\u001b[0mdo_handshake\u001b[0m\u001b[0;34m(\u001b[0m\u001b[0;34m)\u001b[0m\u001b[0;34m\u001b[0m\u001b[0;34m\u001b[0m\u001b[0m\n\u001b[0m\u001b[1;32m   1041\u001b[0m             \u001b[0;32mexcept\u001b[0m \u001b[0;34m(\u001b[0m\u001b[0mOSError\u001b[0m\u001b[0;34m,\u001b[0m \u001b[0mValueError\u001b[0m\u001b[0;34m)\u001b[0m\u001b[0;34m:\u001b[0m\u001b[0;34m\u001b[0m\u001b[0;34m\u001b[0m\u001b[0m\n\u001b[1;32m   1042\u001b[0m                 \u001b[0mself\u001b[0m\u001b[0;34m.\u001b[0m\u001b[0mclose\u001b[0m\u001b[0;34m(\u001b[0m\u001b[0;34m)\u001b[0m\u001b[0;34m\u001b[0m\u001b[0;34m\u001b[0m\u001b[0m\n",
      "\u001b[0;32m/usr/local/anaconda3/lib/python3.8/ssl.py\u001b[0m in \u001b[0;36mdo_handshake\u001b[0;34m(self, block)\u001b[0m\n\u001b[1;32m   1307\u001b[0m             \u001b[0;32mif\u001b[0m \u001b[0mtimeout\u001b[0m \u001b[0;34m==\u001b[0m \u001b[0;36m0.0\u001b[0m \u001b[0;32mand\u001b[0m \u001b[0mblock\u001b[0m\u001b[0;34m:\u001b[0m\u001b[0;34m\u001b[0m\u001b[0;34m\u001b[0m\u001b[0m\n\u001b[1;32m   1308\u001b[0m                 \u001b[0mself\u001b[0m\u001b[0;34m.\u001b[0m\u001b[0msettimeout\u001b[0m\u001b[0;34m(\u001b[0m\u001b[0;32mNone\u001b[0m\u001b[0;34m)\u001b[0m\u001b[0;34m\u001b[0m\u001b[0;34m\u001b[0m\u001b[0m\n\u001b[0;32m-> 1309\u001b[0;31m             \u001b[0mself\u001b[0m\u001b[0;34m.\u001b[0m\u001b[0m_sslobj\u001b[0m\u001b[0;34m.\u001b[0m\u001b[0mdo_handshake\u001b[0m\u001b[0;34m(\u001b[0m\u001b[0;34m)\u001b[0m\u001b[0;34m\u001b[0m\u001b[0;34m\u001b[0m\u001b[0m\n\u001b[0m\u001b[1;32m   1310\u001b[0m         \u001b[0;32mfinally\u001b[0m\u001b[0;34m:\u001b[0m\u001b[0;34m\u001b[0m\u001b[0;34m\u001b[0m\u001b[0m\n\u001b[1;32m   1311\u001b[0m             \u001b[0mself\u001b[0m\u001b[0;34m.\u001b[0m\u001b[0msettimeout\u001b[0m\u001b[0;34m(\u001b[0m\u001b[0mtimeout\u001b[0m\u001b[0;34m)\u001b[0m\u001b[0;34m\u001b[0m\u001b[0;34m\u001b[0m\u001b[0m\n",
      "\u001b[0;31mKeyboardInterrupt\u001b[0m: "
     ]
    }
   ],
   "source": [
    "for name in df2.query(\"rank <= 30\").name.unique():\n",
    "    if name not in already_downloaded_images_by_name:\n",
    "        download_name(name)"
   ]
  },
  {
   "cell_type": "markdown",
   "metadata": {},
   "source": [
    "Three ones have a url that can't be generated from their `name` string:"
   ]
  },
  {
   "cell_type": "code",
   "execution_count": 212,
   "metadata": {},
   "outputs": [
    {
     "name": "stdout",
     "output_type": "stream",
     "text": [
      "Downloading Peerplays [old]\n",
      "Downloading Vechain [Token]\n",
      "Downloading 999\n"
     ]
    }
   ],
   "source": [
    "download_name(\"Peerplays [old]\", \"peerplays\")\n",
    "download_name(\"Vechain [Token]\", \"vechain\")\n",
    "download_name(\"999\", \"999-coin\")"
   ]
  },
  {
   "cell_type": "markdown",
   "metadata": {},
   "source": [
    "Assign newly downloaded asset paths to `df2`:"
   ]
  },
  {
   "cell_type": "code",
   "execution_count": 215,
   "metadata": {},
   "outputs": [],
   "source": [
    "for name in top20noimage:\n",
    "    df2.loc[df2.name == name, \"image\"] = f\"assets/{name}.jpg\""
   ]
  },
  {
   "cell_type": "markdown",
   "metadata": {},
   "source": [
    "Now, there are no images ranked below 20 with no image:"
   ]
  },
  {
   "cell_type": "code",
   "execution_count": 219,
   "metadata": {},
   "outputs": [
    {
     "data": {
      "text/plain": [
       "array([], dtype=object)"
      ]
     },
     "execution_count": 219,
     "metadata": {},
     "output_type": "execute_result"
    }
   ],
   "source": [
    "df2.query(\"rank < 20 and image == ''\").name.unique()"
   ]
  },
  {
   "cell_type": "markdown",
   "metadata": {},
   "source": [
    "Overwrite the old csv with the new one:"
   ]
  },
  {
   "cell_type": "code",
   "execution_count": 220,
   "metadata": {},
   "outputs": [],
   "source": [
    "df2.sort_values(\"date\").to_csv(\"cryptocurrency-data.csv\", index=False)"
   ]
  }
 ],
 "metadata": {
  "kernelspec": {
   "display_name": "Python 3",
   "language": "python",
   "name": "python3"
  },
  "language_info": {
   "codemirror_mode": {
    "name": "ipython",
    "version": 3
   },
   "file_extension": ".py",
   "mimetype": "text/x-python",
   "name": "python",
   "nbconvert_exporter": "python",
   "pygments_lexer": "ipython3",
   "version": "3.8.3"
  }
 },
 "nbformat": 4,
 "nbformat_minor": 4
}
